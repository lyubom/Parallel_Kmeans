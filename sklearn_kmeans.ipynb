{
 "cells": [
  {
   "cell_type": "markdown",
   "metadata": {},
   "source": [
    "**K-means clustering**"
   ]
  },
  {
   "cell_type": "code",
   "execution_count": 1,
   "metadata": {},
   "outputs": [],
   "source": [
    "from sklearn.cluster import KMeans\n",
    "from sklearn.metrics import accuracy_score, adjusted_rand_score\n",
    "import numpy as np\n",
    "import pandas as pd"
   ]
  },
  {
   "cell_type": "markdown",
   "metadata": {},
   "source": [
    "**Read data and labels**"
   ]
  },
  {
   "cell_type": "code",
   "execution_count": 2,
   "metadata": {},
   "outputs": [
    {
     "name": "stdout",
     "output_type": "stream",
     "text": [
      "[ 0.952336  2.18573   0.668095  4.265181 -0.991576 -4.29203   0.768463\n",
      " -0.521147 -0.882173]\n"
     ]
    }
   ],
   "source": [
    "data = []\n",
    "with open('data/color100.txt') as fp:\n",
    "    for line in fp:\n",
    "        x = (line.split(' '))\n",
    "        a = [el for el in x if (el != '' and el != '\\n')]\n",
    "        a.pop(0)\n",
    "        data.append(a)\n",
    "trainX = np.asarray(data, dtype=np.float32)\n",
    "print(trainX[0])"
   ]
  },
  {
   "cell_type": "code",
   "execution_count": 3,
   "metadata": {},
   "outputs": [
    {
     "name": "stdout",
     "output_type": "stream",
     "text": [
      "[0 1 0 1 1 1 0 1 1 1]\n"
     ]
    }
   ],
   "source": [
    "data = []\n",
    "with open('data/clustering.txt') as fp:\n",
    "    for line in fp:\n",
    "        x = (line.split(' '))\n",
    "        x.pop(0)\n",
    "        data.append(x)\n",
    "Y = np.asarray(data, dtype=np.int32)\n",
    "trainY = Y.ravel()\n",
    "print(trainY[:10])"
   ]
  },
  {
   "cell_type": "code",
   "execution_count": 20,
   "metadata": {},
   "outputs": [],
   "source": [
    "kmeans = KMeans(n_clusters=2,max_iter = 500, random_state=2)\n",
    "labels = kmeans.fit_predict(trainX)"
   ]
  },
  {
   "cell_type": "code",
   "execution_count": 21,
   "metadata": {},
   "outputs": [
    {
     "data": {
      "text/plain": [
       "0.846040539563783"
      ]
     },
     "execution_count": 21,
     "metadata": {},
     "output_type": "execute_result"
    }
   ],
   "source": [
    "adjusted_rand_score(trainY, labels)"
   ]
  },
  {
   "cell_type": "code",
   "execution_count": null,
   "metadata": {},
   "outputs": [],
   "source": []
  }
 ],
 "metadata": {
  "kernelspec": {
   "display_name": "Python 3",
   "language": "python",
   "name": "python3"
  },
  "language_info": {
   "codemirror_mode": {
    "name": "ipython",
    "version": 3
   },
   "file_extension": ".py",
   "mimetype": "text/x-python",
   "name": "python",
   "nbconvert_exporter": "python",
   "pygments_lexer": "ipython3",
   "version": "3.6.8"
  }
 },
 "nbformat": 4,
 "nbformat_minor": 2
}
